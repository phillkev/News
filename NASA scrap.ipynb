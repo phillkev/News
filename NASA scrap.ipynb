{
 "cells": [
  {
   "cell_type": "code",
   "execution_count": 1,
   "metadata": {},
   "outputs": [],
   "source": [
    "from splinter import Browser\n",
    "from bs4 import BeautifulSoup\n",
    "import pandas as pd\n",
    "\n",
    "\n",
    "def init_browser():\n",
    "    #Windows\n",
    "    executable_path = {'executable_path': 'chromedriver.exe'}\n",
    "    return Browser('chrome', **executable_path, headless=False)\n",
    "\n",
    "\n",
    "\n",
    "def data_scrape(url):\n",
    "    browser = init_browser()\n",
    "    browser.visit(url)\n",
    "\n",
    "    html = browser.html\n",
    "    soup = BeautifulSoup(html, \"html.parser\")\n",
    "    browser.quit()\n",
    "    \n",
    "    return soup\n",
    "\n",
    "result_dict = {}"
   ]
  },
  {
   "cell_type": "markdown",
   "metadata": {},
   "source": [
    "## Collection of URL calls for scraping\n",
    "\n",
    "This was used for my testing so I did not call the URL too many times."
   ]
  },
  {
   "cell_type": "code",
   "execution_count": 8,
   "metadata": {},
   "outputs": [
    {
     "name": "stdout",
     "output_type": "stream",
     "text": [
      "Starting scape\n",
      "Done\n"
     ]
    }
   ],
   "source": [
    "print(\"Starting scape\")\n",
    "\n",
    "# article_listings = data_scrape(\"https://mars.nasa.gov/news/\")\n",
    "# mars_photo_scrap = data_scrape(\"https://www.jpl.nasa.gov/spaceimages/?search=&category=Mars\")\n",
    "# mars_weather = data_scrape(\"https://twitter.com/marswxreport?lang=en\")\n",
    "mars_facts = data_scrape(\"https://space-facts.com/mars/\")\n",
    "# mars_hires = data_scrape(\"https://astrogeology.usgs.gov/search/results?q=hemisphere+enhanced&k1=target&v1=Mars\")\n",
    "# mars_hires2 = data_scrape(\"https://astrogeology.usgs.gov/maps/mars-viking-hemisphere-point-perspectives\")\n",
    "\n",
    "print(\"Done\")"
   ]
  },
  {
   "cell_type": "markdown",
   "metadata": {},
   "source": [
    "## Gather the titles and teasers of the article page"
   ]
  },
  {
   "cell_type": "code",
   "execution_count": 7,
   "metadata": {},
   "outputs": [
    {
     "name": "stdout",
     "output_type": "stream",
     "text": [
      "{'weather': 'InSight sol 81 (2019-02-17), high -17/2F, low -95/-138F, pressure at 7.23hPa, winds from the WNW at 12 mph gusting to 37.8 mph', 'articles': {'title': 'InSight Is the Newest Mars Weather Service', 'teaser': \"By collecting data around the clock, NASA's lander will provide unique science about the Martian surface.\"}}\n"
     ]
    }
   ],
   "source": [
    "# article_listings = data_scrape(\"https://mars.nasa.gov/news/\")\n",
    "\n",
    "titles = article_listings.find_all('div', class_='list_text')\n",
    "subtitle = article_listings.find_all('div', class_='article_teaser_body')\n",
    "\n",
    "article_range = range(len(titles))\n",
    "\n",
    "title_list = []\n",
    "teaser_list = []\n",
    "\n",
    "for article in article_range:\n",
    "    title_list.append(titles[article].a.text)\n",
    "    teaser_list.append(subtitle[article].text)\n",
    "\n",
    "    \n",
    "first_article_title = title_list[0]\n",
    "first_article_teaser = teaser_list[0]\n",
    "# print(first_article_title)\n",
    "# print(first_article_teaser)\n",
    "\n",
    "articles = {'title': first_article_title, 'teaser': first_article_teaser}\n",
    "result_dict['articles'] = articles\n",
    "\n",
    "print(result_dict)"
   ]
  },
  {
   "cell_type": "markdown",
   "metadata": {},
   "source": [
    "## Gather Mars photo link"
   ]
  },
  {
   "cell_type": "code",
   "execution_count": 35,
   "metadata": {},
   "outputs": [
    {
     "name": "stdout",
     "output_type": "stream",
     "text": [
      "{'articles': {'title': \"Six Things to Know About NASA's Opportunity Rover\", 'teaser': \"Opportunity's mission is complete. Here are highlights from its time on Mars.\"}, 'main photo': 'https://www.jpl.nasa.gov/spaceimages/images/largesize/PIA17936_hires.jpg'}\n"
     ]
    }
   ],
   "source": [
    "base_url = \"https://www.jpl.nasa.gov\"\n",
    "search_value = \"/spaceimages/?search=&category=Mars\"\n",
    "url = base_url + search_value\n",
    "\n",
    "# mars_photo_scrap = data_scrape(url)\n",
    "\n",
    "main_photo_section = mars_photo_scrap.find_all('a', class_='button', id='full_image')\n",
    "\n",
    "\n",
    "# soup.find('div').attrs\n",
    "photo_link = base_url + main_photo_section[0].attrs['data-fancybox-href']\n",
    "large_photo_link = photo_link.replace('medium','large')\n",
    "large_photo_link = large_photo_link.replace('ip','hires')\n",
    "\n",
    "# print(photo_link)\n",
    "# print(large_photo_link)\n",
    "\n",
    "\n",
    "result_dict['main photo'] = large_photo_link\n",
    "print(result_dict)"
   ]
  },
  {
   "cell_type": "markdown",
   "metadata": {},
   "source": [
    "## Gather Weather data from twitter feed"
   ]
  },
  {
   "cell_type": "code",
   "execution_count": 5,
   "metadata": {},
   "outputs": [
    {
     "name": "stdout",
     "output_type": "stream",
     "text": [
      "{'weather': 'InSight sol 81 (2019-02-17), high -17/2F, low -95/-138F, pressure at 7.23hPa, winds from the WNW at 12 mph gusting to 37.8 mph'}\n",
      "126\n"
     ]
    }
   ],
   "source": [
    "\n",
    "\n",
    "mars_weather_text = mars_weather.find_all('p', class_='TweetTextSize TweetTextSize--normal js-tweet-text tweet-text')\n",
    "\n",
    "tweet_range = range(len(mars_weather_text))\n",
    "\n",
    "# we only want the most recent weather data so break from loop as soon as the first tweet that has the text starting with \n",
    "# Sol is found\n",
    "for tweet in tweet_range:\n",
    "    if mars_weather_text[tweet].text[:7] == 'InSight':\n",
    "        weather_string = mars_weather_text[tweet].text\n",
    "        break\n",
    "\n",
    "t = weather_string.find(\"\\n\")\n",
    "weather_string = weather_string[:t]\n",
    "\n",
    "result_dict['weather'] = weather_string\n",
    "\n",
    "print(result_dict)\n",
    "print(t)\n",
    "# print(weather_string)\n",
    "\n",
    "# I thought it might be nice to parse out the weather data into seperate variables.\n",
    "# This function parses a string based on the first comma found.  It sets a variable to the data before the comma\n",
    "# and resets the source string to itself minus the \", \" so it can be used for the next variable.  If there is no\n",
    "# comma (t==-1) then it sets the result string = to the source_string\n",
    "# I'm sure someone has built a more elegant solution to this I just wanted to make this function for the fun of it.\n",
    "# I probably should redo this as a loop and fill a dictionary with each of the values to make the execution dryer\n",
    "# def parse_comma(source_string):\n",
    "#     t = source_string.find(\",\")\n",
    "#     if t == -1:\n",
    "#         t = len(source_string)\n",
    "#     result_string = source_string[:t]\n",
    "#     source_string = source_string[t+2:]\n",
    "#     return source_string, result_string\n",
    "\n",
    "# parse_string = weather_string\n",
    "# parse_string, weather_date = parse_comma(parse_string)\n",
    "# parse_string, weather_high = parse_comma(parse_string)\n",
    "# parse_string, weather_low = parse_comma(parse_string)\n",
    "# parse_string, weather_pressure = parse_comma(parse_string)\n",
    "# parse_string, weather_daylight = parse_comma(parse_string)\n",
    "\n",
    "\n",
    "# print(weather_string)\n",
    "# print(weather_date)\n",
    "# print(weather_high)\n",
    "# print(weather_low)\n",
    "# print(weather_pressure)\n",
    "# print(weather_daylight)\n",
    "\n"
   ]
  },
  {
   "cell_type": "markdown",
   "metadata": {},
   "source": [
    "## Gather Mars Facts"
   ]
  },
  {
   "cell_type": "code",
   "execution_count": 17,
   "metadata": {},
   "outputs": [
    {
     "name": "stdout",
     "output_type": "stream",
     "text": [
      "<table border=\"1\" class=\"dataframe\">\n",
      "  <thead>\n",
      "    <tr style=\"text-align: center;\">\n",
      "      <th>title</th>\n",
      "      <th>value</th>\n",
      "    </tr>\n",
      "  </thead>\n",
      "  <tbody>\n",
      "    <tr>\n",
      "      <td>Equatorial Diameter:</td>\n",
      "      <td>6,792 km\\n</td>\n",
      "    </tr>\n",
      "    <tr>\n",
      "      <td>Polar Diameter:</td>\n",
      "      <td>6,752 km\\n</td>\n",
      "    </tr>\n",
      "    <tr>\n",
      "      <td>Mass:</td>\n",
      "      <td>6.42 x 10^23 kg (10.7% Earth)</td>\n",
      "    </tr>\n",
      "    <tr>\n",
      "      <td>Moons:</td>\n",
      "      <td>2 (Phobos &amp; Deimos)</td>\n",
      "    </tr>\n",
      "    <tr>\n",
      "      <td>Orbit Distance:</td>\n",
      "      <td>227,943,824 km (1.52 AU)</td>\n",
      "    </tr>\n",
      "    <tr>\n",
      "      <td>Orbit Period:</td>\n",
      "      <td>687 days (1.9 years)\\n</td>\n",
      "    </tr>\n",
      "    <tr>\n",
      "      <td>Surface Temperature:</td>\n",
      "      <td>-153 to 20 °C</td>\n",
      "    </tr>\n",
      "    <tr>\n",
      "      <td>First Record:</td>\n",
      "      <td>2nd millennium BC</td>\n",
      "    </tr>\n",
      "    <tr>\n",
      "      <td>Recorded By:</td>\n",
      "      <td>Egyptian astronomers</td>\n",
      "    </tr>\n",
      "  </tbody>\n",
      "</table>\n"
     ]
    }
   ],
   "source": [
    "mars_facts_title_soup = mars_facts.find_all('td', class_='column-1')\n",
    "mars_facts_value_soup = mars_facts.find_all('td', class_='column-2')\n",
    "\n",
    "table_range = range(len(mars_facts_title_soup))\n",
    "\n",
    "mars_facts_titles = []\n",
    "mars_facts_values = []\n",
    "for row in table_range:\n",
    "    mars_facts_titles.append(mars_facts_title_soup[row].text)\n",
    "    mars_facts_values.append(mars_facts_value_soup[row].text)\n",
    "\n",
    "mars_facts_table = pd.DataFrame({\"title\": mars_facts_titles,\n",
    "                                \"value\": mars_facts_values})\n",
    "\n",
    "\n",
    "mars_facts_table.to_html('templates\\mars_facts.html', index=False, justify='center')\n",
    "\n",
    "\n",
    "with open('templates\\mars_facts.html', 'r') as f:\n",
    "        table_html = f.read()\n",
    "\n",
    "result_dict['facts'] = table_html\n",
    "\n",
    "\n",
    "print((table_html))"
   ]
  },
  {
   "cell_type": "markdown",
   "metadata": {},
   "source": [
    "## Gather Hi-Res Hemishere links"
   ]
  },
  {
   "cell_type": "code",
   "execution_count": 5,
   "metadata": {},
   "outputs": [
    {
     "name": "stdout",
     "output_type": "stream",
     "text": [
      "{'hi-res': [{'title': 'Valles Marineris Hemisphere', 'img_url': 'http://astropedia.astrogeology.usgs.gov/download/Mars/Viking/valles_marineris_enhanced.tif/full.jpg', 'tmb_url': 'https://astrogeology.usgs.gov/cache/images/04085d99ec3713883a9a57f42be9c725_valles_marineris_enhanced.tif_thumb.png'}, {'title': 'Syrtis Major Hemisphere', 'img_url': 'http://astropedia.astrogeology.usgs.gov/download/Mars/Viking/syrtis_major_enhanced.tif/full.jpg', 'tmb_url': 'https://astrogeology.usgs.gov/cache/images/aae41197e40d6d4f3ea557f8cfe51d15_syrtis_major_enhanced.tif_thumb.png'}, {'title': 'Schiaparelli Hemisphere', 'img_url': 'http://astropedia.astrogeology.usgs.gov/download/Mars/Viking/schiaparelli_enhanced.tif/full.jpg', 'tmb_url': 'https://astrogeology.usgs.gov/cache/images/7677c0a006b83871b5a2f66985ab5857_schiaparelli_enhanced.tif_thumb.png'}, {'title': 'Cerberus Hemisphere', 'img_url': 'http://astropedia.astrogeology.usgs.gov/download/Mars/Viking/cerberus_enhanced.tif/full.jpg', 'tmb_url': 'https://astrogeology.usgs.gov/cache/images/dfaf3849e74bf973b59eb50dab52b583_cerberus_enhanced.tif_thumb.png'}]}\n"
     ]
    }
   ],
   "source": [
    "# print(mars_hires)\n",
    "# mars_hires_soup = mars_hires.find('title')\n",
    "\n",
    "# This site was down\n",
    "# https://astrogeology.usgs.gov/search/results?q=hemisphere+enhanced&k1=target&v1=Mar\n",
    "# I found another way to get the tif file links\n",
    "# https://astrogeology.usgs.gov/maps/mars-viking-hemisphere-point-perspectives\n",
    "# once on this site I need to scrape the links from other pages\n",
    "# once https://astrogeology.usgs.gov/search/results?q=hemisphere+enhanced&k1=target&v1=Mar is back online \n",
    "# I intend to write code to check for 404.  When 404 I will use the code developed below to capture picture links\n",
    "# Otherwise I will scrape the original link for the image links.\n",
    "\n",
    "# if mars_hires_soup.text[:9] == 'Error 404':\n",
    "\n",
    "base_url = \"https://astrogeology.usgs.gov\"\n",
    "\n",
    "mars_hires2_soup = mars_hires2.find_all('a', class_=\"item\")\n",
    "\n",
    "pict_range = range(len(mars_hires2_soup))\n",
    "\n",
    "pict_list = []\n",
    "for pict in pict_range:\n",
    "    # check to see if the href ends in _enhanced\n",
    "    if mars_hires2_soup[pict].attrs['href'][-9:] == '_enhanced':\n",
    "        # if it does scrape the new url for image links\n",
    "        pict_html = data_scrape(base_url + mars_hires2_soup[pict].attrs['href'])\n",
    "#         pict_soup = pict_html.find_all('dd')\n",
    "        pict_soup = pict_html.find_all('div', class_='downloads')\n",
    "\n",
    "        # add a dictionry containing the image title, the hi-res photo link and a thumb image link\n",
    "        # the thumb image link is added so my site will still be able to display an image even if the hi-res is down\n",
    "#         img_url_test = data_scrape(pict_soup[1].a.attrs['href'])\n",
    "#         pict_list.append({'title': mars_hires2_soup[pict].h3.text[:-9], 'img_url': pict_soup[1].a.attrs['href'], 'tmb_url':\\\n",
    "#                          base_url + mars_hires2_soup[pict].img.attrs['src']})\n",
    "        pict_list.append({'title': mars_hires2_soup[pict].h3.text[:-9], 'img_url': pict_soup[0].a.attrs['href'], 'tmb_url':\\\n",
    "                         base_url + pict_soup[0].img.attrs['src']})\n",
    "\n",
    "result_dict['hi-res'] = pict_list\n",
    "print(result_dict)\n",
    "\n",
    "# Added a URL for the thumb images 'tmb_url'.  That way, if the tiff images are still ofline my website will still have \n",
    "# an image to display\n",
    "\n",
    "    "
   ]
  },
  {
   "cell_type": "markdown",
   "metadata": {},
   "source": [
    "## Mongo code tests"
   ]
  },
  {
   "cell_type": "code",
   "execution_count": 9,
   "metadata": {},
   "outputs": [],
   "source": [
    "from flask import Flask, render_template, redirect\n",
    "from flask_pymongo import PyMongo\n",
    "\n",
    "app = Flask(__name__)\n",
    "\n",
    "# Use flask_pymongo to set up mongo connection\n",
    "app.config[\"MONGO_URI\"] = \"mongodb://localhost:27017/mars_info\"\n",
    "mongo = PyMongo(app)\n"
   ]
  },
  {
   "cell_type": "code",
   "execution_count": 26,
   "metadata": {},
   "outputs": [
    {
     "name": "stdout",
     "output_type": "stream",
     "text": [
      "Valles Marineris Hemisphere\n"
     ]
    }
   ],
   "source": [
    "scrape_results = list(mongo.db.mars.find())\n",
    "\n",
    "print(scrape_results[0]['hi-res'][0]['title'])"
   ]
  },
  {
   "cell_type": "code",
   "execution_count": 27,
   "metadata": {},
   "outputs": [
    {
     "ename": "RuntimeError",
     "evalue": "Attempted to generate a URL without the application context being pushed. This has to be executed when application context is available.",
     "output_type": "error",
     "traceback": [
      "\u001b[1;31m---------------------------------------------------------------------------\u001b[0m",
      "\u001b[1;31mRuntimeError\u001b[0m                              Traceback (most recent call last)",
      "\u001b[1;32m<ipython-input-27-12ef56d57e58>\u001b[0m in \u001b[0;36m<module>\u001b[1;34m()\u001b[0m\n\u001b[0;32m      1\u001b[0m \u001b[1;32mfrom\u001b[0m \u001b[0mflask\u001b[0m \u001b[1;32mimport\u001b[0m \u001b[0mFlask\u001b[0m\u001b[1;33m,\u001b[0m \u001b[0mrender_template\u001b[0m\u001b[1;33m,\u001b[0m \u001b[0mredirect\u001b[0m\u001b[1;33m,\u001b[0m \u001b[0murl_for\u001b[0m\u001b[1;33m\u001b[0m\u001b[1;33m\u001b[0m\u001b[0m\n\u001b[0;32m      2\u001b[0m \u001b[1;33m\u001b[0m\u001b[0m\n\u001b[1;32m----> 3\u001b[1;33m \u001b[0mt\u001b[0m \u001b[1;33m=\u001b[0m \u001b[0murl_for\u001b[0m\u001b[1;33m(\u001b[0m\u001b[1;34m'static'\u001b[0m\u001b[1;33m,\u001b[0m \u001b[0mfilename\u001b[0m\u001b[1;33m=\u001b[0m\u001b[1;34m'style.css'\u001b[0m\u001b[1;33m)\u001b[0m\u001b[1;33m\u001b[0m\u001b[1;33m\u001b[0m\u001b[0m\n\u001b[0m\u001b[0;32m      4\u001b[0m \u001b[0mprint\u001b[0m\u001b[1;33m(\u001b[0m\u001b[0mt\u001b[0m\u001b[1;33m)\u001b[0m\u001b[1;33m\u001b[0m\u001b[1;33m\u001b[0m\u001b[0m\n",
      "\u001b[1;32m~\\Anaconda3\\envs\\PythonData\\lib\\site-packages\\flask\\helpers.py\u001b[0m in \u001b[0;36murl_for\u001b[1;34m(endpoint, **values)\u001b[0m\n\u001b[0;32m    292\u001b[0m     \u001b[1;32mif\u001b[0m \u001b[0mappctx\u001b[0m \u001b[1;32mis\u001b[0m \u001b[1;32mNone\u001b[0m\u001b[1;33m:\u001b[0m\u001b[1;33m\u001b[0m\u001b[1;33m\u001b[0m\u001b[0m\n\u001b[0;32m    293\u001b[0m         raise RuntimeError(\n\u001b[1;32m--> 294\u001b[1;33m             \u001b[1;34m'Attempted to generate a URL without the application context being'\u001b[0m\u001b[1;33m\u001b[0m\u001b[1;33m\u001b[0m\u001b[0m\n\u001b[0m\u001b[0;32m    295\u001b[0m             \u001b[1;34m' pushed. This has to be executed when application context is'\u001b[0m\u001b[1;33m\u001b[0m\u001b[1;33m\u001b[0m\u001b[0m\n\u001b[0;32m    296\u001b[0m             \u001b[1;34m' available.'\u001b[0m\u001b[1;33m\u001b[0m\u001b[1;33m\u001b[0m\u001b[0m\n",
      "\u001b[1;31mRuntimeError\u001b[0m: Attempted to generate a URL without the application context being pushed. This has to be executed when application context is available."
     ]
    }
   ],
   "source": []
  },
  {
   "cell_type": "code",
   "execution_count": null,
   "metadata": {},
   "outputs": [],
   "source": []
  }
 ],
 "metadata": {
  "kernelspec": {
   "display_name": "Python 3",
   "language": "python",
   "name": "python3"
  },
  "language_info": {
   "codemirror_mode": {
    "name": "ipython",
    "version": 3
   },
   "file_extension": ".py",
   "mimetype": "text/x-python",
   "name": "python",
   "nbconvert_exporter": "python",
   "pygments_lexer": "ipython3",
   "version": "3.6.8"
  }
 },
 "nbformat": 4,
 "nbformat_minor": 2
}
